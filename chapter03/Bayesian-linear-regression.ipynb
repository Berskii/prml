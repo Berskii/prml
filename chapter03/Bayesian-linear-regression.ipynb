{
 "cells": [
  {
   "cell_type": "markdown",
   "metadata": {},
   "source": [
    "# Bayesian Linear Regression"
   ]
  },
  {
   "cell_type": "markdown",
   "metadata": {},
   "source": [
    "Estimating ${\\bf w}$ under a Bayesian approach\n",
    "\n",
    "----\n",
    "\n",
    "\n",
    "Suppose we are given a dataset $\\mathcal{D}=\\left\\{({\\bf x}_n, y_n)\\vert {\\bf x}_n \\in \\mathbb{R}^M, y_n\\in\\mathbb{R} \\right\\}_{n=1}^N$ that we wish to model as\n",
    "\n",
    "$$\n",
    "    y\\vert {\\bf x} \\sim \\mathcal{N}({\\bf w}^T{\\bf x}, \\sigma^2)\n",
    "$$\n",
    "\n",
    "To get a sense of the possible values of $\\bf w$, we assign $\\bf w$ a *prior* distribution and we wish to compute the *posterior* distribution of ${\\bf w}\\vert y, {\\bf x}$.\n",
    "\n",
    "For the most simple case, we can assume that ${\\bf w}\\sim\\mathcal{N}(\\boldsymbol\\mu_0, \\boldsymbol\\Sigma_0)$ (a conjugate prior). Hence we need to find the form of\n",
    "\n",
    "$$\n",
    "\\begin{aligned}\n",
    "p({\\bf w}\\vert \\mathcal{D}) &\\propto p({\\bf w})p(\\mathcal D\\vert {\\bf w})\\\\\n",
    "&= \\mathcal{N}({\\bf w}\\vert \\boldsymbol\\mu_0, \\boldsymbol\\Sigma_0) \\mathcal{N}({\\bf y} \\vert {\\bf X}{\\bf w}, \\sigma^2{\\bf I})\n",
    "\\end{aligned}\n",
    "$$"
   ]
  },
  {
   "cell_type": "code",
   "execution_count": 1,
   "metadata": {},
   "outputs": [],
   "source": [
    "import sympy as sym\n",
    "from sympy import init_printing\n",
    "init_printing()"
   ]
  },
  {
   "cell_type": "code",
   "execution_count": 2,
   "metadata": {},
   "outputs": [],
   "source": [
    "N, M = 5, 3\n",
    "Phi = sym.MatrixSymbol(\"Phi\", M, N)\n",
    "t = sym.MatrixSymbol(\"t\", N, 1)\n",
    "w = sym.MatrixSymbol(\"w\", M, 1) "
   ]
  },
  {
   "cell_type": "code",
   "execution_count": 3,
   "metadata": {},
   "outputs": [
    {
     "data": {
      "image/png": "[encoded data removed]",
      "text/latex": [
       "$$t^T \\Phi^T w$$"
      ],
      "text/plain": [
       " T  T  \n",
       "t ⋅Φ ⋅w"
      ]
     },
     "execution_count": 3,
     "metadata": {},
     "output_type": "execute_result"
    }
   ],
   "source": [
    "t.T @ Phi.T @ w"
   ]
  },
  {
   "cell_type": "code",
   "execution_count": 4,
   "metadata": {},
   "outputs": [],
   "source": [
    "M, N = 3, 5\n",
    "t = sym.symbols(f\"t1:{N + 1}\")\n",
    "t = sym.Matrix(t).reshape(N, 1)\n",
    "\n",
    "w = sym.symbols(f\"w1:{M + 1}\")\n",
    "w = sym.Matrix(w).reshape(M, 1)\n",
    "\n",
    "phi = sym.symbols(\"phi1:6(1:4)\")\n",
    "phi = sym.Matrix(phi).reshape(N, M)\n",
    "\n",
    "m0 = sym.symbols(f\"m1:{M + 1}\")\n",
    "m0 = sym.Matrix(m0).reshape(M, 1)\n",
    "\n",
    "S0 = sym.symbols(f\"s1:{M + 1}(1:{M + 1})\")\n",
    "S0 = sym.Matrix(S0).reshape(M, M)"
   ]
  },
  {
   "cell_type": "code",
   "execution_count": 5,
   "metadata": {},
   "outputs": [],
   "source": [
    "def f(i): return (t[i] - (w.T @ phi[i, :].T)[0]) ** 2"
   ]
  },
  {
   "cell_type": "code",
   "execution_count": 6,
   "metadata": {},
   "outputs": [
    {
     "data": {
      "image/png": "[encoded data removed]",
      "text/latex": [
       "$$\\left(- \\phi_{11} w_{1} - \\phi_{12} w_{2} - \\phi_{13} w_{3} + t_{1}\\right)^{2}$$"
      ],
      "text/plain": [
       "                                2\n",
       "(-φ₁₁⋅w₁ - φ₁₂⋅w₂ - φ₁₃⋅w₃ + t₁) "
      ]
     },
     "execution_count": 6,
     "metadata": {},
     "output_type": "execute_result"
    }
   ],
   "source": [
    "f(0)"
   ]
  },
  {
   "cell_type": "code",
   "execution_count": 7,
   "metadata": {
    "scrolled": true
   },
   "outputs": [
    {
     "data": {
      "image/png": "[encoded data removed]",
      "text/latex": [
       "$$\\left(- \\phi_{11} w_{1} - \\phi_{12} w_{2} - \\phi_{13} w_{3} + t_{1}\\right)^{2} + \\left(- \\phi_{21} w_{1} - \\phi_{22} w_{2} - \\phi_{23} w_{3} + t_{2}\\right)^{2} + \\left(- \\phi_{31} w_{1} - \\phi_{32} w_{2} - \\phi_{33} w_{3} + t_{3}\\right)^{2} + \\left(- \\phi_{41} w_{1} - \\phi_{42} w_{2} - \\phi_{43} w_{3} + t_{4}\\right)^{2} + \\left(- \\phi_{51} w_{1} - \\phi_{52} w_{2} - \\phi_{53} w_{3} + t_{5}\\right)^{2}$$"
      ],
      "text/plain": [
       "                                2                                   2         \n",
       "(-φ₁₁⋅w₁ - φ₁₂⋅w₂ - φ₁₃⋅w₃ + t₁)  + (-φ₂₁⋅w₁ - φ₂₂⋅w₂ - φ₂₃⋅w₃ + t₂)  + (-φ₃₁⋅\n",
       "\n",
       "                          2                                   2               \n",
       "w₁ - φ₃₂⋅w₂ - φ₃₃⋅w₃ + t₃)  + (-φ₄₁⋅w₁ - φ₄₂⋅w₂ - φ₄₃⋅w₃ + t₄)  + (-φ₅₁⋅w₁ - φ\n",
       "\n",
       "                    2\n",
       "₅₂⋅w₂ - φ₅₃⋅w₃ + t₅) "
      ]
     },
     "execution_count": 7,
     "metadata": {},
     "output_type": "execute_result"
    }
   ],
   "source": [
    "sum([f(i) for i in range(N)])"
   ]
  },
  {
   "cell_type": "code",
   "execution_count": 8,
   "metadata": {},
   "outputs": [
    {
     "data": {
      "image/png": "[encoded data removed]",
      "text/latex": [
       "$$\\left[\\begin{matrix}\\left(- \\phi_{11} w_{1} - \\phi_{12} w_{2} - \\phi_{13} w_{3} + t_{1}\\right)^{2} + \\left(- \\phi_{21} w_{1} - \\phi_{22} w_{2} - \\phi_{23} w_{3} + t_{2}\\right)^{2} + \\left(- \\phi_{31} w_{1} - \\phi_{32} w_{2} - \\phi_{33} w_{3} + t_{3}\\right)^{2} + \\left(- \\phi_{41} w_{1} - \\phi_{42} w_{2} - \\phi_{43} w_{3} + t_{4}\\right)^{2} + \\left(- \\phi_{51} w_{1} - \\phi_{52} w_{2} - \\phi_{53} w_{3} + t_{5}\\right)^{2}\\end{matrix}\\right]$$"
      ],
      "text/plain": [
       "⎡                                2                                   2        \n",
       "⎣(-φ₁₁⋅w₁ - φ₁₂⋅w₂ - φ₁₃⋅w₃ + t₁)  + (-φ₂₁⋅w₁ - φ₂₂⋅w₂ - φ₂₃⋅w₃ + t₂)  + (-φ₃₁\n",
       "\n",
       "                           2                                   2              \n",
       "⋅w₁ - φ₃₂⋅w₂ - φ₃₃⋅w₃ + t₃)  + (-φ₄₁⋅w₁ - φ₄₂⋅w₂ - φ₄₃⋅w₃ + t₄)  + (-φ₅₁⋅w₁ - \n",
       "\n",
       "                     2⎤\n",
       "φ₅₂⋅w₂ - φ₅₃⋅w₃ + t₅) ⎦"
      ]
     },
     "execution_count": 8,
     "metadata": {},
     "output_type": "execute_result"
    }
   ],
   "source": [
    "(t - phi @ w).T @ (t - phi @ w)"
   ]
  },
  {
   "cell_type": "code",
   "execution_count": 9,
   "metadata": {},
   "outputs": [
    {
     "data": {
      "text/plain": [
       "True"
      ]
     },
     "execution_count": 9,
     "metadata": {},
     "output_type": "execute_result"
    }
   ],
   "source": [
    "(m0.T @ S0 @ w)[0] == (m0.T @ S0 @ w).T[0]"
   ]
  },
  {
   "cell_type": "markdown",
   "metadata": {},
   "source": [
    "## Posterior Distribution"
   ]
  },
  {
   "cell_type": "code",
   "execution_count": 12,
   "metadata": {},
   "outputs": [],
   "source": [
    "# Beta is the known error term;\n",
    "# Alpha is the variance (assuming an isotropic gaussian)\n",
    "alpha, beta = sym.symbols(\"alpha beta\")\n",
    "\n",
    "S0 =  sym.Identity(3) / alpha\n",
    "m0 = sym.MatrixSymbol(\"m\", 3, 1)\n",
    "phi = sym.MatrixSymbol(\"Phi\", 5, 3)\n",
    "t = sym.MatrixSymbol(\"t\", 5, 1)"
   ]
  },
  {
   "cell_type": "code",
   "execution_count": 20,
   "metadata": {},
   "outputs": [],
   "source": [
    "Sn = S0 + (phi.T @ phi).inv() / beta\n",
    "mn = Sn @ (S0.inv() @ m0 + beta * phi.T @ t)"
   ]
  },
  {
   "cell_type": "code",
   "execution_count": 21,
   "metadata": {},
   "outputs": [
    {
     "data": {
      "image/png": "[encoded data removed]",
      "text/latex": [
       "$$\\left(\\frac{1}{\\alpha} \\mathbb{I} + \\frac{1}{\\beta} \\left(\\Phi^T \\Phi\\right)^{-1}\\right) \\left(\\alpha m + \\beta \\Phi^T t\\right)$$"
      ],
      "text/plain": [
       "⎛              -1⎞               \n",
       "⎜1     1 ⎛ T  ⎞  ⎟ ⎛         T  ⎞\n",
       "⎜─⋅I + ─⋅⎝Φ ⋅Φ⎠  ⎟⋅⎝α⋅m + β⋅Φ ⋅t⎠\n",
       "⎝α     β         ⎠               "
      ]
     },
     "execution_count": 21,
     "metadata": {},
     "output_type": "execute_result"
    }
   ],
   "source": [
    "Sn * (S0.inv() @ m0 + beta * phi.T @ t)"
   ]
  }
 ],
 "metadata": {
  "kernelspec": {
   "display_name": "Python 3",
   "language": "python",
   "name": "python3"
  },
  "language_info": {
   "codemirror_mode": {
    "name": "ipython",
    "version": 3
   },
   "file_extension": ".py",
   "mimetype": "text/x-python",
   "name": "python",
   "nbconvert_exporter": "python",
   "pygments_lexer": "ipython3",
   "version": "3.7.7"
  }
 },
 "nbformat": 4,
 "nbformat_minor": 2
}
